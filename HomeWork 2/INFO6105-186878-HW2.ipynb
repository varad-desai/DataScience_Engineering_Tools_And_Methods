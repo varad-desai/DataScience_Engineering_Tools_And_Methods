{
 "cells": [
  {
   "cell_type": "raw",
   "metadata": {},
   "source": [
    "2019-10-02: Homework 2: total 100 points for Pandas and Matplotlib\n",
    "Submission due date by the end of Oct. 9th, 2019.\n",
    "Total 100 points.\n"
   ]
  },
  {
   "cell_type": "raw",
   "metadata": {},
   "source": [
    "Pandas Homework: 9 questions, total 50 points."
   ]
  },
  {
   "cell_type": "raw",
   "metadata": {},
   "source": [
    "1. Given data = [1,2,3,4,5,6,7,8,9,5,3], create a Pandas Series, then calculate the mean and standard deviation of the Series and print the outputs.\n",
    " (3 points)"
   ]
  },
  {
   "cell_type": "code",
   "execution_count": 3,
   "metadata": {},
   "outputs": [],
   "source": [
    "import pandas as pd \n",
    "import numpy as np"
   ]
  },
  {
   "cell_type": "code",
   "execution_count": 4,
   "metadata": {},
   "outputs": [],
   "source": [
    "data = np.array([1,2,3,4,5,6,7,8,9,5,3])"
   ]
  },
  {
   "cell_type": "code",
   "execution_count": 5,
   "metadata": {},
   "outputs": [],
   "source": [
    "panda_series = pd.Series(data)"
   ]
  },
  {
   "cell_type": "code",
   "execution_count": 6,
   "metadata": {},
   "outputs": [
    {
     "name": "stdout",
     "output_type": "stream",
     "text": [
      "0     1\n",
      "1     2\n",
      "2     3\n",
      "3     4\n",
      "4     5\n",
      "5     6\n",
      "6     7\n",
      "7     8\n",
      "8     9\n",
      "9     5\n",
      "10    3\n",
      "dtype: int32\n"
     ]
    }
   ],
   "source": [
    "print(panda_series)"
   ]
  },
  {
   "cell_type": "code",
   "execution_count": 7,
   "metadata": {},
   "outputs": [
    {
     "name": "stdout",
     "output_type": "stream",
     "text": [
      "2.522624895547565\n"
     ]
    }
   ],
   "source": [
    "standard_deviation_of_panda_series = panda_series.std()\n",
    "print(\"Standard deviation of Panda Series: \", standard_deviation_of_panda_series)"
   ]
  },
  {
   "cell_type": "code",
   "execution_count": 8,
   "metadata": {},
   "outputs": [
    {
     "name": "stdout",
     "output_type": "stream",
     "text": [
      "4.818181818181818\n"
     ]
    }
   ],
   "source": [
    "mean_of_panda_series = panda_series.mean()\n",
    "print(\"Mean of Panda Series: \", mean_of_panda_series)"
   ]
  },
  {
   "cell_type": "raw",
   "metadata": {},
   "source": [
    "2. There are two Pandas Series: [2, 4, 6, 8, 10], [1, 3, 5, 7, 9]. Compare the elements of the two Pandas Series. Expected outputs are to print two series comparing with \"equal\", \"greater than\", and \"less than\". (4 points)"
   ]
  },
  {
   "cell_type": "code",
   "execution_count": 9,
   "metadata": {},
   "outputs": [],
   "source": [
    "data1 = np.array([2, 4, 6, 8, 10])\n",
    "data2 = np.array([1, 3, 5, 7, 9])"
   ]
  },
  {
   "cell_type": "code",
   "execution_count": 10,
   "metadata": {},
   "outputs": [],
   "source": [
    "panda_series_1 = pd.Series(data1)\n",
    "panda_series_2 = pd.Series(data2)"
   ]
  },
  {
   "cell_type": "code",
   "execution_count": 11,
   "metadata": {},
   "outputs": [
    {
     "name": "stdout",
     "output_type": "stream",
     "text": [
      "Series1:\n",
      "0     2\n",
      "1     4\n",
      "2     6\n",
      "3     8\n",
      "4    10\n",
      "dtype: int32\n",
      "Series2:\n",
      "0    1\n",
      "1    3\n",
      "2    5\n",
      "3    7\n",
      "4    9\n",
      "dtype: int32\n",
      "Compare the elements of the said Series:\n",
      "Equals:\n",
      "0    False\n",
      "1    False\n",
      "2    False\n",
      "3    False\n",
      "4    False\n",
      "dtype: bool\n",
      "Greater than:\n",
      "0    True\n",
      "1    True\n",
      "2    True\n",
      "3    True\n",
      "4    True\n",
      "dtype: bool\n",
      "Less than:\n",
      "0    False\n",
      "1    False\n",
      "2    False\n",
      "3    False\n",
      "4    False\n",
      "dtype: bool\n"
     ]
    }
   ],
   "source": [
    "print(\"Series1:\")\n",
    "print(panda_series_1)\n",
    "print(\"Series2:\")\n",
    "print(panda_series_2)\n",
    "print(\"Compare the elements of the said Series:\")\n",
    "print(\"Equals:\")\n",
    "print(panda_series_1 == panda_series_2)\n",
    "print(\"Greater than:\")\n",
    "print(panda_series_1 > panda_series_2)\n",
    "print(\"Less than:\")\n",
    "print(panda_series_1 < panda_series_2)"
   ]
  },
  {
   "cell_type": "raw",
   "metadata": {},
   "source": [
    "3. NumPy array: d1 = [10, 20, 30, 40, 50];  dictionary: d2 = {'a': 100, 'b': 200, 'c':300, 'd':400, 'e':800}    \n",
    "Convert the NumPy array and the dictionary to Pandas Series, respectively. (2 points)"
   ]
  },
  {
   "cell_type": "code",
   "execution_count": 16,
   "metadata": {},
   "outputs": [
    {
     "name": "stdout",
     "output_type": "stream",
     "text": [
      "0    10\n",
      "1    20\n",
      "2    30\n",
      "3    40\n",
      "4    50\n",
      "dtype: int32\n"
     ]
    }
   ],
   "source": [
    "d1 = np.array([10, 20, 30, 40, 50])\n",
    "\n",
    "panda_series_d1 = pd.Series(d1)\n",
    "\n",
    "print(panda_series_d1)"
   ]
  },
  {
   "cell_type": "code",
   "execution_count": 15,
   "metadata": {},
   "outputs": [
    {
     "name": "stdout",
     "output_type": "stream",
     "text": [
      "a    100\n",
      "b    200\n",
      "c    300\n",
      "d    400\n",
      "e    800\n",
      "dtype: int64\n"
     ]
    }
   ],
   "source": [
    "d2 = {'a': 100, 'b': 200, 'c':300, 'd':400, 'e':800}\n",
    "\n",
    "panda_series_d2 = pd.Series(d2)\n",
    "\n",
    "print(panda_series_d2)"
   ]
  },
  {
   "cell_type": "raw",
   "metadata": {},
   "source": [
    "4. Contruct a DataFrame as the sameple data here. Use \"iloc\" to convert the first column of a DataFrame as a Series. (4 points)\n",
    "Sample data:\n",
    "    col1  col2  col3\n",
    "0     1     4     7\n",
    "1     2     5     5\n",
    "2     3     6     8\n",
    "3     4     9    12\n",
    "4     7     5     1\n",
    "5    11     0    11"
   ]
  },
  {
   "cell_type": "code",
   "execution_count": 19,
   "metadata": {},
   "outputs": [
    {
     "name": "stdout",
     "output_type": "stream",
     "text": [
      "   col1  col2  col3\n",
      "0     1     4     7\n",
      "1     2     5     5\n",
      "2     3     6     8\n",
      "3     4     9    12\n",
      "4     7     5     1\n",
      "5    11     0    11\n"
     ]
    }
   ],
   "source": [
    "d = {'col1': [1, 2, 3, 4, 7, 11], 'col2': [4, 5, 6, 9, 5, 0], 'col3': [7, 5, 8, 12, 1, 11]}\n",
    "\n",
    "df = pd.DataFrame(data = d)\n",
    "\n",
    "print(df)"
   ]
  },
  {
   "cell_type": "code",
   "execution_count": 23,
   "metadata": {},
   "outputs": [
    {
     "data": {
      "text/html": [
       "<div>\n",
       "<style scoped>\n",
       "    .dataframe tbody tr th:only-of-type {\n",
       "        vertical-align: middle;\n",
       "    }\n",
       "\n",
       "    .dataframe tbody tr th {\n",
       "        vertical-align: top;\n",
       "    }\n",
       "\n",
       "    .dataframe thead th {\n",
       "        text-align: right;\n",
       "    }\n",
       "</style>\n",
       "<table border=\"1\" class=\"dataframe\">\n",
       "  <thead>\n",
       "    <tr style=\"text-align: right;\">\n",
       "      <th></th>\n",
       "      <th>col1</th>\n",
       "    </tr>\n",
       "  </thead>\n",
       "  <tbody>\n",
       "    <tr>\n",
       "      <th>0</th>\n",
       "      <td>1</td>\n",
       "    </tr>\n",
       "    <tr>\n",
       "      <th>1</th>\n",
       "      <td>2</td>\n",
       "    </tr>\n",
       "    <tr>\n",
       "      <th>2</th>\n",
       "      <td>3</td>\n",
       "    </tr>\n",
       "    <tr>\n",
       "      <th>3</th>\n",
       "      <td>4</td>\n",
       "    </tr>\n",
       "    <tr>\n",
       "      <th>4</th>\n",
       "      <td>7</td>\n",
       "    </tr>\n",
       "    <tr>\n",
       "      <th>5</th>\n",
       "      <td>11</td>\n",
       "    </tr>\n",
       "  </tbody>\n",
       "</table>\n",
       "</div>"
      ],
      "text/plain": [
       "   col1\n",
       "0     1\n",
       "1     2\n",
       "2     3\n",
       "3     4\n",
       "4     7\n",
       "5    11"
      ]
     },
     "execution_count": 23,
     "metadata": {},
     "output_type": "execute_result"
    }
   ],
   "source": [
    "df.iloc[:,0:1]"
   ]
  },
  {
   "cell_type": "raw",
   "metadata": {},
   "source": [
    "5. Create a DataFram with multiple indice, the result should be the following: here, \"random\" means any integer random number for books. [7 point]\n",
    "\n",
    "                       Bob     Tom\n",
    " 1st          2nd                    \n",
    "fiction       one     random  random\n",
    "              two     random  random\n",
    "non-fiction   one     random  random\n",
    "              two     random  random\n",
    "sci-fi        one     random  random\n",
    "              two     random  random\n",
    "chapter       one     random  random\n",
    "              two     random  random"
   ]
  },
  {
   "cell_type": "raw",
   "metadata": {},
   "source": [
    "6. Write a Pandas program to replace all the NaN values with Zero's in a column of a dataframe. [5 points]. \n",
    "Sample data is a dataset for an exam:\n",
    "Original DataFrame\n",
    "attempts name qualify score\n",
    "0 1 Anastasia yes 12.5\n",
    "1 3 Dima no 9.0\n",
    "2 2 Katherine yes 16.5\n",
    "3 3 James no NaN\n",
    "4 2 Emily no 9.0\n",
    "5 3 Michael yes 20.0\n",
    "6 1 Matthew yes 14.5\n",
    "7 1 Laura no NaN\n",
    "8 2 Kevin no 8.0\n",
    "9 1 Jonas yes 19.0\n",
    "1) Construct a DataFrame and the column in the order as name, score, attempts, qualify\n",
    "2) New DataFrame replacing all NaN with 0."
   ]
  },
  {
   "cell_type": "raw",
   "metadata": {},
   "source": []
  },
  {
   "cell_type": "raw",
   "metadata": {},
   "source": [
    "7. Sort a given Series; add some data ['500', 'php'] to an existing Series; [5 points]\n",
    "Original Data Series:\n",
    "0       100\n",
    "1       200\n",
    "2    python\n",
    "3    300.12\n",
    "4       400"
   ]
  },
  {
   "cell_type": "raw",
   "metadata": {},
   "source": [
    "8. Count number of columns of the DataFrame; select all columns, except one given column 'col3'; remove first 3 rows of the DataFrame; remove last 3 rows of the DataFrame. [10 points]\n",
    "Sample DataFrame:\n",
    "    col1  col2  col3\n",
    "0     1     4     7\n",
    "1     2     5     5\n",
    "2     3     6     8\n",
    "3     4     9    12\n",
    "4     7     5     1\n",
    "5    11     0    11   \n",
    "\n"
   ]
  },
  {
   "cell_type": "raw",
   "metadata": {},
   "source": [
    "9. [10 points]: \n",
    "1. read data from movies.csv file to Pandas\n",
    "2. get the information of the DataFrame (movies.csv file) including data types and memory usage.\n",
    "3. count the number of rows and columns of the DataFrame \n",
    "4. get the details of fifth movie of the DataFrame.\n",
    "5. display the movies (title, runtime)longer than 30 minutes and shorter than 360 minutes."
   ]
  },
  {
   "cell_type": "raw",
   "metadata": {},
   "source": [
    "\n",
    "Matplotlib: 5 questions, total 50 points.\n"
   ]
  },
  {
   "cell_type": "raw",
   "metadata": {},
   "source": [
    "1. [3 points]: plot several lines with different format styles in one command using arrays.\n",
    "Sampled time at 200ms intervals\n",
    "t = np.arange(0., 5., 0.2)\n",
    "green dashes, blue squares and red triangles to plot t, t**2, t**3."
   ]
  },
  {
   "cell_type": "raw",
   "metadata": {},
   "source": [
    "2. [7 points]: plot line1 and line2 with different styles\n",
    "# line 1 points\n",
    "x1 = [10,20,30]\n",
    "y1 = [20,40,10]\n",
    "# line 2 points\n",
    "x2 = [10,20,30]\n",
    "y2 = [40,10,30]\n",
    "Set the x and y axes labels as 'x' and 'y';  # 2point\n",
    "Plot lines and/or markers to the Axes: blue,red; dotted, dashed;   # 3point\n",
    "Set a title: \"Plot with two or more lines with different styles\";  # 1point\n",
    "show a legend on the plot as 'line1-dotted', 'line2-dashed'.   # 1point"
   ]
  },
  {
   "cell_type": "raw",
   "metadata": {},
   "source": [
    "3. [5 points]: draw a scatter plot with empty circles taking a 50-point random distribution in X and Y; set X and Y as x- and y- axes lables;\n",
    "  any color for face and edge, and plotted against each other."
   ]
  },
  {
   "cell_type": "raw",
   "metadata": {},
   "source": [
    "4. [5 points]:  create bar plot from a DataFrame.\n",
    "Sample DataFrame:\n",
    "  a b c d e \n",
    "2 4,8,5,7,6\n",
    "4 2,3,4,2,6\n",
    "6 4,7,4,7,8\n",
    "8 2,6,4,8,6\n",
    "10 2,4,3,3,2"
   ]
  },
  {
   "cell_type": "raw",
   "metadata": {},
   "source": []
  },
  {
   "cell_type": "raw",
   "metadata": {},
   "source": [
    "5. [30 points]:\n",
    "The following dataset for average monthly precipitation. You will create and customize a plot. \n",
    "Month    Precipitation (inches)\n",
    "Jan      0.70\n",
    "Feb      0.75\n",
    "Mar      1.85\n",
    "Apr      2.93\n",
    "May      3.05\n",
    "June     2.02\n",
    "July     1.93\n",
    "Aug      1.62\n",
    "Sept     1.84\n",
    "Oct      1.31\n",
    "Nov      1.39\n",
    "Dec      0.84"
   ]
  },
  {
   "cell_type": "raw",
   "metadata": {},
   "source": [
    "5.1 [10 points]: Begin by creating a plot using the default styles provided by matplotlib.pyplot. You will use months along the x-axis and precip along the y-axis; and set plot size [8,8] for the plot:"
   ]
  },
  {
   "cell_type": "raw",
   "metadata": {},
   "source": [
    "5.2 [10 points]: Add Title and Axis Labels\n",
    "set plot title as \"Average Monthly Precipitation\";\n",
    "add labels to the axes: x label as \"Month\", y label as \"Precipitation (inches)\""
   ]
  },
  {
   "cell_type": "raw",
   "metadata": {},
   "source": [
    "5.3 [10 points]: Change Plot Type\n",
    "You can turn your plot into a bar plot; \n",
    "also assign a fill color using \"green\"."
   ]
  },
  {
   "cell_type": "code",
   "execution_count": null,
   "metadata": {},
   "outputs": [],
   "source": []
  },
  {
   "cell_type": "code",
   "execution_count": null,
   "metadata": {},
   "outputs": [],
   "source": []
  }
 ],
 "metadata": {
  "kernelspec": {
   "display_name": "Python 3",
   "language": "python",
   "name": "python3"
  },
  "language_info": {
   "codemirror_mode": {
    "name": "ipython",
    "version": 3
   },
   "file_extension": ".py",
   "mimetype": "text/x-python",
   "name": "python",
   "nbconvert_exporter": "python",
   "pygments_lexer": "ipython3",
   "version": "3.7.3"
  }
 },
 "nbformat": 4,
 "nbformat_minor": 2
}
